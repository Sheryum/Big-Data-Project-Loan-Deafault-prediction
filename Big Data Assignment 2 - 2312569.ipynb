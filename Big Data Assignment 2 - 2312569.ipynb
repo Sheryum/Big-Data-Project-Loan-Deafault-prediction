{
 "cells": [
  {
   "cell_type": "code",
   "execution_count": 1,
   "id": "377abd31",
   "metadata": {
    "scrolled": true
   },
   "outputs": [],
   "source": [
    "import pandas as pd\n",
    "import numpy as np\n",
    "import matplotlib.pyplot as plt\n",
    "from sklearn.linear_model import LinearRegression\n",
    "from sklearn.model_selection import train_test_split, GridSearchCV\n",
    "from sklearn.linear_model import Ridge, RidgeCV\n",
    "from sklearn.linear_model import LassoCV\n",
    "from sklearn.ensemble import RandomForestClassifier\n",
    "from sklearn.preprocessing import LabelEncoder\n",
    "from sklearn.metrics import mean_squared_error\n",
    "from sklearn.preprocessing import StandardScaler\n",
    "import tensorflow as tf\n",
    "from tensorflow import keras"
   ]
  },
  {
   "cell_type": "code",
   "execution_count": null,
   "id": "e59b1f02",
   "metadata": {},
   "outputs": [],
   "source": []
  },
  {
   "cell_type": "code",
   "execution_count": 2,
   "id": "540f8aef",
   "metadata": {},
   "outputs": [],
   "source": [
    "# Load training and testing data\n",
    "train_data = pd.read_csv(\"trainData.csv\")\n",
    "test_data = pd.read_csv(\"testData.csv\")"
   ]
  },
  {
   "cell_type": "markdown",
   "id": "1cfe7159",
   "metadata": {},
   "source": [
    " PreProcessing Data"
   ]
  },
  {
   "cell_type": "code",
   "execution_count": 3,
   "id": "b0780df9",
   "metadata": {},
   "outputs": [],
   "source": [
    "# Preprocessing\n",
    "train_data['y'] = train_data['loan_status'].apply(lambda x: 1 if x == 'Charged Off' else 0)\n",
    "\n",
    "#Dropping the Id member_id columns as they dont have any information usefull to the model\n",
    "train_data.drop(columns=['id', 'member_id','loan_status'], inplace=True)\n",
    "test_data.drop(columns=['id', 'member_id'], inplace=True)"
   ]
  },
  {
   "cell_type": "code",
   "execution_count": 4,
   "id": "1462f96d",
   "metadata": {},
   "outputs": [],
   "source": [
    "# Encode categorical variables\n",
    "cat_cols = ['grade', 'emp_length', 'home_ownership', 'application_type']\n",
    "for col in cat_cols:\n",
    "    le = LabelEncoder()\n",
    "    train_data[col] = le.fit_transform(train_data[col])\n",
    "    test_data[col] = le.fit_transform(test_data[col])\n",
    "    \n",
    "    \n",
    "\n",
    "\n",
    "\n"
   ]
  },
  {
   "cell_type": "code",
   "execution_count": 5,
   "id": "30a8bef9",
   "metadata": {},
   "outputs": [
    {
     "name": "stdout",
     "output_type": "stream",
     "text": [
      "Columns and their number of null values:\n",
      "loan_amnt                          0\n",
      "int_rate                           0\n",
      "installment                        0\n",
      "grade                              0\n",
      "emp_length                         0\n",
      "home_ownership                     0\n",
      "annual_inc                         0\n",
      "dti                              180\n",
      "delinq_2yrs                        5\n",
      "inq_last_6mths                     5\n",
      "mths_since_last_delinq        115840\n",
      "open_acc                           5\n",
      "pub_rec                            5\n",
      "revol_bal                          0\n",
      "revol_util                       190\n",
      "total_acc                          5\n",
      "total_pymnt                        0\n",
      "total_pymnt_inv                    0\n",
      "total_rec_prncp                    0\n",
      "total_rec_int                      0\n",
      "total_rec_late_fee                 0\n",
      "recoveries                         0\n",
      "collection_recovery_fee            0\n",
      "last_pymnt_amnt                    0\n",
      "collections_12_mths_ex_med        16\n",
      "application_type                   0\n",
      "acc_now_delinq                     5\n",
      "tot_coll_amt                    7107\n",
      "tot_cur_bal                     7107\n",
      "total_rev_hi_lim                7107\n",
      "y                                  0\n",
      "dtype: int64\n"
     ]
    }
   ],
   "source": [
    "# Display columns with their corresponding number of null values\n",
    "null_counts = train_data.isnull().sum()\n",
    "print(\"Columns and their number of null values:\")\n",
    "print(null_counts)"
   ]
  },
  {
   "cell_type": "code",
   "execution_count": 6,
   "id": "5ae2fce2",
   "metadata": {},
   "outputs": [],
   "source": [
    "#mths_since_last_delinq variable is important feature to check for default but has 50% null values.\n",
    "#Replacing the NULL values with 0 assuming that while data collection the values were missed because of no delinquencies occuring\n",
    "\n",
    "\n",
    "train_data['mths_since_last_delinq'].fillna(train_data['mths_since_last_delinq'].mean(), inplace=True)\n",
    "test_data['mths_since_last_delinq'].fillna(test_data['mths_since_last_delinq'].mean(), inplace=True)"
   ]
  },
  {
   "cell_type": "code",
   "execution_count": 7,
   "id": "2009d8e8",
   "metadata": {},
   "outputs": [
    {
     "name": "stdout",
     "output_type": "stream",
     "text": [
      "Shape of DataFrame after removing rows with null values: (218604, 31)\n",
      "Shape of DataFrame after removing rows with null values: (218720, 31)\n"
     ]
    }
   ],
   "source": [
    "#Replacing the rows where column has null values\n",
    "\n",
    "train_data.dropna(inplace=True)\n",
    "test_data.dropna(inplace=True)\n",
    "\n",
    "# Check the shape of the DataFrame after removing rows with null values\n",
    "print(\"Shape of DataFrame after removing rows with null values:\", train_data.shape)\n",
    "print(\"Shape of DataFrame after removing rows with null values:\", test_data.shape)"
   ]
  },
  {
   "cell_type": "code",
   "execution_count": 8,
   "id": "1edf50c3",
   "metadata": {},
   "outputs": [
    {
     "name": "stdout",
     "output_type": "stream",
     "text": [
      "Column 'loan_amnt' is numeric: True\n",
      "Column 'int_rate' is numeric: True\n",
      "Column 'installment' is numeric: True\n",
      "Column 'grade' is numeric: True\n",
      "Column 'emp_length' is numeric: True\n",
      "Column 'home_ownership' is numeric: True\n",
      "Column 'annual_inc' is numeric: True\n",
      "Column 'dti' is numeric: True\n",
      "Column 'delinq_2yrs' is numeric: True\n",
      "Column 'inq_last_6mths' is numeric: True\n",
      "Column 'mths_since_last_delinq' is numeric: True\n",
      "Column 'open_acc' is numeric: True\n",
      "Column 'pub_rec' is numeric: True\n",
      "Column 'revol_bal' is numeric: True\n",
      "Column 'revol_util' is numeric: True\n",
      "Column 'total_acc' is numeric: True\n",
      "Column 'total_pymnt' is numeric: True\n",
      "Column 'total_pymnt_inv' is numeric: True\n",
      "Column 'total_rec_prncp' is numeric: True\n",
      "Column 'total_rec_int' is numeric: True\n",
      "Column 'total_rec_late_fee' is numeric: True\n",
      "Column 'recoveries' is numeric: True\n",
      "Column 'collection_recovery_fee' is numeric: True\n",
      "Column 'last_pymnt_amnt' is numeric: True\n",
      "Column 'collections_12_mths_ex_med' is numeric: True\n",
      "Column 'application_type' is numeric: True\n",
      "Column 'acc_now_delinq' is numeric: True\n",
      "Column 'tot_coll_amt' is numeric: True\n",
      "Column 'tot_cur_bal' is numeric: True\n",
      "Column 'total_rev_hi_lim' is numeric: True\n",
      "Column 'y' is numeric: True\n"
     ]
    }
   ],
   "source": [
    "numeric_columns = train_data.select_dtypes(include='number').columns\n",
    "\n",
    "# Check if each column is numeric\n",
    "for column in train_data.columns:\n",
    "    is_numeric = column in numeric_columns\n",
    "    print(f\"Column '{column}' is numeric: {is_numeric}\")"
   ]
  },
  {
   "cell_type": "code",
   "execution_count": 9,
   "id": "1fea6a44",
   "metadata": {},
   "outputs": [
    {
     "name": "stdout",
     "output_type": "stream",
     "text": [
      "Correlation of variables with 'loan_status':\n",
      "y                             1.000000\n",
      "recoveries                    0.523448\n",
      "collection_recovery_fee       0.504759\n",
      "grade                         0.224438\n",
      "total_rec_prncp               0.213357\n",
      "int_rate                      0.199086\n",
      "last_pymnt_amnt               0.173894\n",
      "total_pymnt_inv               0.129822\n",
      "total_pymnt                   0.129816\n",
      "total_rec_late_fee            0.100838\n",
      "inq_last_6mths                0.090857\n",
      "revol_util                    0.066026\n",
      "total_rev_hi_lim              0.057935\n",
      "application_type              0.051395\n",
      "tot_cur_bal                   0.051248\n",
      "home_ownership                0.047306\n",
      "total_rec_int                 0.038889\n",
      "dti                           0.035348\n",
      "annual_inc                    0.033073\n",
      "pub_rec                       0.031546\n",
      "installment                   0.027409\n",
      "loan_amnt                     0.020313\n",
      "open_acc                      0.020041\n",
      "revol_bal                     0.019001\n",
      "delinq_2yrs                   0.017902\n",
      "total_acc                     0.017877\n",
      "emp_length                    0.013985\n",
      "acc_now_delinq                0.011173\n",
      "mths_since_last_delinq        0.006298\n",
      "collections_12_mths_ex_med    0.004578\n",
      "tot_coll_amt                  0.000463\n",
      "dtype: float64\n"
     ]
    }
   ],
   "source": [
    "Correlation = train_data.corrwith(train_data['y'])\n",
    "abs_correlation = Correlation.abs().sort_values(ascending=False)\n",
    "print(\"Correlation of variables with 'loan_status':\")\n",
    "print(abs_correlation)"
   ]
  },
  {
   "cell_type": "code",
   "execution_count": 10,
   "id": "ae12a61b",
   "metadata": {},
   "outputs": [],
   "source": [
    "# Handle missing values if any\n",
    "# For simplicity droping rows with missing values\n",
    "train_data.dropna(inplace=True)\n",
    "\n",
    "\n",
    "\n",
    "# Split data into features and target variable\n",
    "#Training set\n",
    "X_train = train_data.drop(columns=['y'])\n",
    "y_train = train_data['y']\n",
    "\n",
    "\n",
    "#Test set\n",
    "X_test = test_data.drop(columns=['loan_status'])\n",
    "y_test = test_data['loan_status'].apply(lambda x: 1 if x == 'Charged Off' else 0)\n",
    "\n"
   ]
  },
  {
   "cell_type": "code",
   "execution_count": 11,
   "id": "29430c5c",
   "metadata": {},
   "outputs": [],
   "source": [
    "#Dropping 3 low correlation variables\n",
    "#tot_coll_amt\n",
    "#collections_12_mths_ex_med\n",
    "#mths_since_last_delinq\n",
    "X_train = X_train.drop(columns=['tot_coll_amt','collections_12_mths_ex_med','mths_since_last_delinq'])\n",
    "X_test = X_test.drop(columns=['tot_coll_amt','collections_12_mths_ex_med','mths_since_last_delinq'])\n",
    "\n"
   ]
  },
  {
   "cell_type": "code",
   "execution_count": 12,
   "id": "577f960e",
   "metadata": {},
   "outputs": [
    {
     "data": {
      "text/html": [
       "<div>\n",
       "<style scoped>\n",
       "    .dataframe tbody tr th:only-of-type {\n",
       "        vertical-align: middle;\n",
       "    }\n",
       "\n",
       "    .dataframe tbody tr th {\n",
       "        vertical-align: top;\n",
       "    }\n",
       "\n",
       "    .dataframe thead th {\n",
       "        text-align: right;\n",
       "    }\n",
       "</style>\n",
       "<table border=\"1\" class=\"dataframe\">\n",
       "  <thead>\n",
       "    <tr style=\"text-align: right;\">\n",
       "      <th></th>\n",
       "      <th>loan_amnt</th>\n",
       "      <th>int_rate</th>\n",
       "      <th>installment</th>\n",
       "      <th>grade</th>\n",
       "      <th>emp_length</th>\n",
       "      <th>home_ownership</th>\n",
       "      <th>annual_inc</th>\n",
       "      <th>dti</th>\n",
       "      <th>delinq_2yrs</th>\n",
       "      <th>inq_last_6mths</th>\n",
       "      <th>...</th>\n",
       "      <th>total_rec_prncp</th>\n",
       "      <th>total_rec_int</th>\n",
       "      <th>total_rec_late_fee</th>\n",
       "      <th>recoveries</th>\n",
       "      <th>collection_recovery_fee</th>\n",
       "      <th>last_pymnt_amnt</th>\n",
       "      <th>application_type</th>\n",
       "      <th>acc_now_delinq</th>\n",
       "      <th>tot_cur_bal</th>\n",
       "      <th>total_rev_hi_lim</th>\n",
       "    </tr>\n",
       "  </thead>\n",
       "  <tbody>\n",
       "    <tr>\n",
       "      <th>0</th>\n",
       "      <td>8000</td>\n",
       "      <td>7.07</td>\n",
       "      <td>247.28</td>\n",
       "      <td>0</td>\n",
       "      <td>1</td>\n",
       "      <td>1</td>\n",
       "      <td>78000.0</td>\n",
       "      <td>19.25</td>\n",
       "      <td>0.0</td>\n",
       "      <td>0.0</td>\n",
       "      <td>...</td>\n",
       "      <td>8000.00</td>\n",
       "      <td>325.02</td>\n",
       "      <td>0.0</td>\n",
       "      <td>0.0</td>\n",
       "      <td>0.0</td>\n",
       "      <td>6844.48</td>\n",
       "      <td>0</td>\n",
       "      <td>0.0</td>\n",
       "      <td>200412.0</td>\n",
       "      <td>16800.0</td>\n",
       "    </tr>\n",
       "    <tr>\n",
       "      <th>1</th>\n",
       "      <td>20000</td>\n",
       "      <td>7.21</td>\n",
       "      <td>619.47</td>\n",
       "      <td>0</td>\n",
       "      <td>3</td>\n",
       "      <td>5</td>\n",
       "      <td>78000.0</td>\n",
       "      <td>23.06</td>\n",
       "      <td>0.0</td>\n",
       "      <td>0.0</td>\n",
       "      <td>...</td>\n",
       "      <td>3041.18</td>\n",
       "      <td>659.62</td>\n",
       "      <td>0.0</td>\n",
       "      <td>0.0</td>\n",
       "      <td>0.0</td>\n",
       "      <td>619.47</td>\n",
       "      <td>0</td>\n",
       "      <td>0.0</td>\n",
       "      <td>39187.0</td>\n",
       "      <td>42100.0</td>\n",
       "    </tr>\n",
       "    <tr>\n",
       "      <th>2</th>\n",
       "      <td>20000</td>\n",
       "      <td>12.74</td>\n",
       "      <td>452.41</td>\n",
       "      <td>2</td>\n",
       "      <td>5</td>\n",
       "      <td>1</td>\n",
       "      <td>97000.0</td>\n",
       "      <td>5.52</td>\n",
       "      <td>1.0</td>\n",
       "      <td>0.0</td>\n",
       "      <td>...</td>\n",
       "      <td>6215.08</td>\n",
       "      <td>4217.64</td>\n",
       "      <td>0.0</td>\n",
       "      <td>0.0</td>\n",
       "      <td>0.0</td>\n",
       "      <td>452.41</td>\n",
       "      <td>0</td>\n",
       "      <td>0.0</td>\n",
       "      <td>279688.0</td>\n",
       "      <td>6500.0</td>\n",
       "    </tr>\n",
       "    <tr>\n",
       "      <th>3</th>\n",
       "      <td>20000</td>\n",
       "      <td>8.81</td>\n",
       "      <td>634.23</td>\n",
       "      <td>0</td>\n",
       "      <td>1</td>\n",
       "      <td>1</td>\n",
       "      <td>115000.0</td>\n",
       "      <td>16.84</td>\n",
       "      <td>0.0</td>\n",
       "      <td>2.0</td>\n",
       "      <td>...</td>\n",
       "      <td>20000.00</td>\n",
       "      <td>6.12</td>\n",
       "      <td>0.0</td>\n",
       "      <td>0.0</td>\n",
       "      <td>0.0</td>\n",
       "      <td>20015.91</td>\n",
       "      <td>0</td>\n",
       "      <td>0.0</td>\n",
       "      <td>172493.0</td>\n",
       "      <td>40200.0</td>\n",
       "    </tr>\n",
       "    <tr>\n",
       "      <th>5</th>\n",
       "      <td>9000</td>\n",
       "      <td>19.20</td>\n",
       "      <td>330.82</td>\n",
       "      <td>3</td>\n",
       "      <td>6</td>\n",
       "      <td>5</td>\n",
       "      <td>60000.0</td>\n",
       "      <td>7.28</td>\n",
       "      <td>0.0</td>\n",
       "      <td>0.0</td>\n",
       "      <td>...</td>\n",
       "      <td>9000.00</td>\n",
       "      <td>422.98</td>\n",
       "      <td>0.0</td>\n",
       "      <td>0.0</td>\n",
       "      <td>0.0</td>\n",
       "      <td>8761.49</td>\n",
       "      <td>0</td>\n",
       "      <td>0.0</td>\n",
       "      <td>28658.0</td>\n",
       "      <td>20000.0</td>\n",
       "    </tr>\n",
       "  </tbody>\n",
       "</table>\n",
       "<p>5 rows × 27 columns</p>\n",
       "</div>"
      ],
      "text/plain": [
       "   loan_amnt  int_rate  installment  grade  emp_length  home_ownership  \\\n",
       "0       8000      7.07       247.28      0           1               1   \n",
       "1      20000      7.21       619.47      0           3               5   \n",
       "2      20000     12.74       452.41      2           5               1   \n",
       "3      20000      8.81       634.23      0           1               1   \n",
       "5       9000     19.20       330.82      3           6               5   \n",
       "\n",
       "   annual_inc    dti  delinq_2yrs  inq_last_6mths  ...  total_rec_prncp  \\\n",
       "0     78000.0  19.25          0.0             0.0  ...          8000.00   \n",
       "1     78000.0  23.06          0.0             0.0  ...          3041.18   \n",
       "2     97000.0   5.52          1.0             0.0  ...          6215.08   \n",
       "3    115000.0  16.84          0.0             2.0  ...         20000.00   \n",
       "5     60000.0   7.28          0.0             0.0  ...          9000.00   \n",
       "\n",
       "   total_rec_int  total_rec_late_fee  recoveries  collection_recovery_fee  \\\n",
       "0         325.02                 0.0         0.0                      0.0   \n",
       "1         659.62                 0.0         0.0                      0.0   \n",
       "2        4217.64                 0.0         0.0                      0.0   \n",
       "3           6.12                 0.0         0.0                      0.0   \n",
       "5         422.98                 0.0         0.0                      0.0   \n",
       "\n",
       "   last_pymnt_amnt  application_type  acc_now_delinq  tot_cur_bal  \\\n",
       "0          6844.48                 0             0.0     200412.0   \n",
       "1           619.47                 0             0.0      39187.0   \n",
       "2           452.41                 0             0.0     279688.0   \n",
       "3         20015.91                 0             0.0     172493.0   \n",
       "5          8761.49                 0             0.0      28658.0   \n",
       "\n",
       "   total_rev_hi_lim  \n",
       "0           16800.0  \n",
       "1           42100.0  \n",
       "2            6500.0  \n",
       "3           40200.0  \n",
       "5           20000.0  \n",
       "\n",
       "[5 rows x 27 columns]"
      ]
     },
     "execution_count": 12,
     "metadata": {},
     "output_type": "execute_result"
    }
   ],
   "source": [
    "X_test.head()"
   ]
  },
  {
   "cell_type": "code",
   "execution_count": 13,
   "id": "f26586e0",
   "metadata": {},
   "outputs": [
    {
     "data": {
      "text/html": [
       "<div>\n",
       "<style scoped>\n",
       "    .dataframe tbody tr th:only-of-type {\n",
       "        vertical-align: middle;\n",
       "    }\n",
       "\n",
       "    .dataframe tbody tr th {\n",
       "        vertical-align: top;\n",
       "    }\n",
       "\n",
       "    .dataframe thead th {\n",
       "        text-align: right;\n",
       "    }\n",
       "</style>\n",
       "<table border=\"1\" class=\"dataframe\">\n",
       "  <thead>\n",
       "    <tr style=\"text-align: right;\">\n",
       "      <th></th>\n",
       "      <th>loan_amnt</th>\n",
       "      <th>int_rate</th>\n",
       "      <th>installment</th>\n",
       "      <th>grade</th>\n",
       "      <th>emp_length</th>\n",
       "      <th>home_ownership</th>\n",
       "      <th>annual_inc</th>\n",
       "      <th>dti</th>\n",
       "      <th>delinq_2yrs</th>\n",
       "      <th>inq_last_6mths</th>\n",
       "      <th>...</th>\n",
       "      <th>total_rec_prncp</th>\n",
       "      <th>total_rec_int</th>\n",
       "      <th>total_rec_late_fee</th>\n",
       "      <th>recoveries</th>\n",
       "      <th>collection_recovery_fee</th>\n",
       "      <th>last_pymnt_amnt</th>\n",
       "      <th>application_type</th>\n",
       "      <th>acc_now_delinq</th>\n",
       "      <th>tot_cur_bal</th>\n",
       "      <th>total_rev_hi_lim</th>\n",
       "    </tr>\n",
       "  </thead>\n",
       "  <tbody>\n",
       "    <tr>\n",
       "      <th>0</th>\n",
       "      <td>18600</td>\n",
       "      <td>10.99</td>\n",
       "      <td>608.86</td>\n",
       "      <td>1</td>\n",
       "      <td>6</td>\n",
       "      <td>5</td>\n",
       "      <td>80000.0</td>\n",
       "      <td>12.92</td>\n",
       "      <td>0.0</td>\n",
       "      <td>0.0</td>\n",
       "      <td>...</td>\n",
       "      <td>18600.0</td>\n",
       "      <td>1355.75</td>\n",
       "      <td>0.0</td>\n",
       "      <td>0.0</td>\n",
       "      <td>0.0</td>\n",
       "      <td>15705.09</td>\n",
       "      <td>0</td>\n",
       "      <td>0.0</td>\n",
       "      <td>170238.0</td>\n",
       "      <td>20700.0</td>\n",
       "    </tr>\n",
       "    <tr>\n",
       "      <th>1</th>\n",
       "      <td>2000</td>\n",
       "      <td>17.97</td>\n",
       "      <td>72.28</td>\n",
       "      <td>3</td>\n",
       "      <td>4</td>\n",
       "      <td>1</td>\n",
       "      <td>55400.0</td>\n",
       "      <td>10.62</td>\n",
       "      <td>1.0</td>\n",
       "      <td>2.0</td>\n",
       "      <td>...</td>\n",
       "      <td>128.9</td>\n",
       "      <td>83.95</td>\n",
       "      <td>0.0</td>\n",
       "      <td>0.0</td>\n",
       "      <td>0.0</td>\n",
       "      <td>72.28</td>\n",
       "      <td>1</td>\n",
       "      <td>0.0</td>\n",
       "      <td>351452.0</td>\n",
       "      <td>10800.0</td>\n",
       "    </tr>\n",
       "    <tr>\n",
       "      <th>2</th>\n",
       "      <td>12000</td>\n",
       "      <td>12.29</td>\n",
       "      <td>400.24</td>\n",
       "      <td>2</td>\n",
       "      <td>1</td>\n",
       "      <td>4</td>\n",
       "      <td>60000.0</td>\n",
       "      <td>17.92</td>\n",
       "      <td>0.0</td>\n",
       "      <td>0.0</td>\n",
       "      <td>...</td>\n",
       "      <td>12000.0</td>\n",
       "      <td>485.96</td>\n",
       "      <td>0.0</td>\n",
       "      <td>0.0</td>\n",
       "      <td>0.0</td>\n",
       "      <td>11281.15</td>\n",
       "      <td>0</td>\n",
       "      <td>0.0</td>\n",
       "      <td>18207.0</td>\n",
       "      <td>20600.0</td>\n",
       "    </tr>\n",
       "    <tr>\n",
       "      <th>3</th>\n",
       "      <td>16000</td>\n",
       "      <td>19.42</td>\n",
       "      <td>589.90</td>\n",
       "      <td>3</td>\n",
       "      <td>7</td>\n",
       "      <td>5</td>\n",
       "      <td>64000.0</td>\n",
       "      <td>3.90</td>\n",
       "      <td>1.0</td>\n",
       "      <td>0.0</td>\n",
       "      <td>...</td>\n",
       "      <td>3561.4</td>\n",
       "      <td>2303.08</td>\n",
       "      <td>0.0</td>\n",
       "      <td>0.0</td>\n",
       "      <td>0.0</td>\n",
       "      <td>589.90</td>\n",
       "      <td>0</td>\n",
       "      <td>0.0</td>\n",
       "      <td>12293.0</td>\n",
       "      <td>7800.0</td>\n",
       "    </tr>\n",
       "    <tr>\n",
       "      <th>4</th>\n",
       "      <td>22525</td>\n",
       "      <td>16.02</td>\n",
       "      <td>548.01</td>\n",
       "      <td>2</td>\n",
       "      <td>1</td>\n",
       "      <td>1</td>\n",
       "      <td>94080.0</td>\n",
       "      <td>19.08</td>\n",
       "      <td>1.0</td>\n",
       "      <td>0.0</td>\n",
       "      <td>...</td>\n",
       "      <td>22525.0</td>\n",
       "      <td>2226.12</td>\n",
       "      <td>0.0</td>\n",
       "      <td>0.0</td>\n",
       "      <td>0.0</td>\n",
       "      <td>21483.11</td>\n",
       "      <td>0</td>\n",
       "      <td>0.0</td>\n",
       "      <td>571244.0</td>\n",
       "      <td>53800.0</td>\n",
       "    </tr>\n",
       "  </tbody>\n",
       "</table>\n",
       "<p>5 rows × 27 columns</p>\n",
       "</div>"
      ],
      "text/plain": [
       "   loan_amnt  int_rate  installment  grade  emp_length  home_ownership  \\\n",
       "0      18600     10.99       608.86      1           6               5   \n",
       "1       2000     17.97        72.28      3           4               1   \n",
       "2      12000     12.29       400.24      2           1               4   \n",
       "3      16000     19.42       589.90      3           7               5   \n",
       "4      22525     16.02       548.01      2           1               1   \n",
       "\n",
       "   annual_inc    dti  delinq_2yrs  inq_last_6mths  ...  total_rec_prncp  \\\n",
       "0     80000.0  12.92          0.0             0.0  ...          18600.0   \n",
       "1     55400.0  10.62          1.0             2.0  ...            128.9   \n",
       "2     60000.0  17.92          0.0             0.0  ...          12000.0   \n",
       "3     64000.0   3.90          1.0             0.0  ...           3561.4   \n",
       "4     94080.0  19.08          1.0             0.0  ...          22525.0   \n",
       "\n",
       "   total_rec_int  total_rec_late_fee  recoveries  collection_recovery_fee  \\\n",
       "0        1355.75                 0.0         0.0                      0.0   \n",
       "1          83.95                 0.0         0.0                      0.0   \n",
       "2         485.96                 0.0         0.0                      0.0   \n",
       "3        2303.08                 0.0         0.0                      0.0   \n",
       "4        2226.12                 0.0         0.0                      0.0   \n",
       "\n",
       "   last_pymnt_amnt  application_type  acc_now_delinq  tot_cur_bal  \\\n",
       "0         15705.09                 0             0.0     170238.0   \n",
       "1            72.28                 1             0.0     351452.0   \n",
       "2         11281.15                 0             0.0      18207.0   \n",
       "3           589.90                 0             0.0      12293.0   \n",
       "4         21483.11                 0             0.0     571244.0   \n",
       "\n",
       "   total_rev_hi_lim  \n",
       "0           20700.0  \n",
       "1           10800.0  \n",
       "2           20600.0  \n",
       "3            7800.0  \n",
       "4           53800.0  \n",
       "\n",
       "[5 rows x 27 columns]"
      ]
     },
     "execution_count": 13,
     "metadata": {},
     "output_type": "execute_result"
    }
   ],
   "source": [
    "X_train.head()"
   ]
  },
  {
   "cell_type": "code",
   "execution_count": 14,
   "id": "ddd9cf6f",
   "metadata": {},
   "outputs": [],
   "source": [
    "\n",
    "\n",
    "# Initialize the StandardScaler\n",
    "scaler = StandardScaler()\n",
    "\n",
    "# Fit and transform the training data\n",
    "X_train_scaled = scaler.fit_transform(X_train)\n",
    "\n",
    "# Transform the test data (using the same scaler)\n",
    "X_test_scaled = scaler.transform(X_test)"
   ]
  },
  {
   "cell_type": "markdown",
   "id": "9ed1e574",
   "metadata": {},
   "source": [
    "Fitting Linear Regression Model."
   ]
  },
  {
   "cell_type": "code",
   "execution_count": 15,
   "id": "c3a9f6e9",
   "metadata": {},
   "outputs": [
    {
     "name": "stdout",
     "output_type": "stream",
     "text": [
      "Mean Squared Error for training data: 0.06683831179359304\n",
      "Mean Squared Error for testing data: 0.0676844931715756\n"
     ]
    }
   ],
   "source": [
    "# Fit linear regression model\n",
    "model = LinearRegression()\n",
    "model.fit(X_train_scaled, y_train)\n",
    "\n",
    "# Predictions on training data\n",
    "y_pred_train = model.predict(X_train_scaled)\n",
    "mse_train = mean_squared_error(y_train, y_pred_train)\n",
    "print(\"Mean Squared Error for training data:\", mse_train)\n",
    "\n",
    "\n",
    "# Predictions on test data\n",
    "\n",
    "y_pred_test = model.predict(X_test_scaled)\n",
    "mse_test = mean_squared_error(y_test, y_pred_test)\n",
    "print(\"Mean Squared Error for testing data:\", mse_test)\n"
   ]
  },
  {
   "cell_type": "markdown",
   "id": "5fd551a8",
   "metadata": {},
   "source": [
    "Lasso Regression"
   ]
  },
  {
   "cell_type": "code",
   "execution_count": 16,
   "id": "ccae7783",
   "metadata": {},
   "outputs": [],
   "source": [
    "import numpy as np\n",
    "from sklearn.model_selection import RandomizedSearchCV\n",
    "from sklearn.pipeline import Pipeline\n",
    "from sklearn.linear_model import Lasso\n",
    "\n",
    "\n",
    "# Define the pipeline including any preprocessing steps\n",
    "# Replace 'preprocessing_step' with your actual preprocessing steps\n",
    "lasso_pipeline = Pipeline([\n",
    "    ('lasso', Lasso())  # Lasso regression model\n",
    "])\n"
   ]
  },
  {
   "cell_type": "code",
   "execution_count": 17,
   "id": "653dd5c8",
   "metadata": {},
   "outputs": [],
   "source": [
    "\n",
    "# Define the alpha values to search over\n",
    "alphas = np.arange(0.01, 100, 0.01)\n",
    "\n",
    "# Define the hyperparameter distributions to search over\n",
    "param_distributions = {\n",
    "    'lasso__alpha': alphas  # Lasso alpha (regularization parameter) values\n",
    "}\n",
    "\n"
   ]
  },
  {
   "cell_type": "code",
   "execution_count": 18,
   "id": "b777b2b1",
   "metadata": {},
   "outputs": [],
   "source": [
    "# Create RandomizedSearchCV object\n",
    "random_search_lasso = RandomizedSearchCV(\n",
    "    lasso_pipeline,\n",
    "    param_distributions=param_distributions,\n",
    "    n_iter=len(alphas),  # Number of iterations is equal to the number of alpha values\n",
    "    cv=5,\n",
    "    scoring='neg_mean_squared_error',\n",
    "    return_train_score=True,\n",
    "    n_jobs=-1,  # Use all available cores\n",
    "    random_state=69\n",
    ")\n",
    "\n"
   ]
  },
  {
   "cell_type": "code",
   "execution_count": null,
   "id": "687e09d8",
   "metadata": {},
   "outputs": [],
   "source": []
  },
  {
   "cell_type": "code",
   "execution_count": 19,
   "id": "a137b965",
   "metadata": {},
   "outputs": [
    {
     "data": {
      "text/html": [
       "<style>#sk-container-id-1 {color: black;background-color: white;}#sk-container-id-1 pre{padding: 0;}#sk-container-id-1 div.sk-toggleable {background-color: white;}#sk-container-id-1 label.sk-toggleable__label {cursor: pointer;display: block;width: 100%;margin-bottom: 0;padding: 0.3em;box-sizing: border-box;text-align: center;}#sk-container-id-1 label.sk-toggleable__label-arrow:before {content: \"▸\";float: left;margin-right: 0.25em;color: #696969;}#sk-container-id-1 label.sk-toggleable__label-arrow:hover:before {color: black;}#sk-container-id-1 div.sk-estimator:hover label.sk-toggleable__label-arrow:before {color: black;}#sk-container-id-1 div.sk-toggleable__content {max-height: 0;max-width: 0;overflow: hidden;text-align: left;background-color: #f0f8ff;}#sk-container-id-1 div.sk-toggleable__content pre {margin: 0.2em;color: black;border-radius: 0.25em;background-color: #f0f8ff;}#sk-container-id-1 input.sk-toggleable__control:checked~div.sk-toggleable__content {max-height: 200px;max-width: 100%;overflow: auto;}#sk-container-id-1 input.sk-toggleable__control:checked~label.sk-toggleable__label-arrow:before {content: \"▾\";}#sk-container-id-1 div.sk-estimator input.sk-toggleable__control:checked~label.sk-toggleable__label {background-color: #d4ebff;}#sk-container-id-1 div.sk-label input.sk-toggleable__control:checked~label.sk-toggleable__label {background-color: #d4ebff;}#sk-container-id-1 input.sk-hidden--visually {border: 0;clip: rect(1px 1px 1px 1px);clip: rect(1px, 1px, 1px, 1px);height: 1px;margin: -1px;overflow: hidden;padding: 0;position: absolute;width: 1px;}#sk-container-id-1 div.sk-estimator {font-family: monospace;background-color: #f0f8ff;border: 1px dotted black;border-radius: 0.25em;box-sizing: border-box;margin-bottom: 0.5em;}#sk-container-id-1 div.sk-estimator:hover {background-color: #d4ebff;}#sk-container-id-1 div.sk-parallel-item::after {content: \"\";width: 100%;border-bottom: 1px solid gray;flex-grow: 1;}#sk-container-id-1 div.sk-label:hover label.sk-toggleable__label {background-color: #d4ebff;}#sk-container-id-1 div.sk-serial::before {content: \"\";position: absolute;border-left: 1px solid gray;box-sizing: border-box;top: 0;bottom: 0;left: 50%;z-index: 0;}#sk-container-id-1 div.sk-serial {display: flex;flex-direction: column;align-items: center;background-color: white;padding-right: 0.2em;padding-left: 0.2em;position: relative;}#sk-container-id-1 div.sk-item {position: relative;z-index: 1;}#sk-container-id-1 div.sk-parallel {display: flex;align-items: stretch;justify-content: center;background-color: white;position: relative;}#sk-container-id-1 div.sk-item::before, #sk-container-id-1 div.sk-parallel-item::before {content: \"\";position: absolute;border-left: 1px solid gray;box-sizing: border-box;top: 0;bottom: 0;left: 50%;z-index: -1;}#sk-container-id-1 div.sk-parallel-item {display: flex;flex-direction: column;z-index: 1;position: relative;background-color: white;}#sk-container-id-1 div.sk-parallel-item:first-child::after {align-self: flex-end;width: 50%;}#sk-container-id-1 div.sk-parallel-item:last-child::after {align-self: flex-start;width: 50%;}#sk-container-id-1 div.sk-parallel-item:only-child::after {width: 0;}#sk-container-id-1 div.sk-dashed-wrapped {border: 1px dashed gray;margin: 0 0.4em 0.5em 0.4em;box-sizing: border-box;padding-bottom: 0.4em;background-color: white;}#sk-container-id-1 div.sk-label label {font-family: monospace;font-weight: bold;display: inline-block;line-height: 1.2em;}#sk-container-id-1 div.sk-label-container {text-align: center;}#sk-container-id-1 div.sk-container {/* jupyter's `normalize.less` sets `[hidden] { display: none; }` but bootstrap.min.css set `[hidden] { display: none !important; }` so we also need the `!important` here to be able to override the default hidden behavior on the sphinx rendered scikit-learn.org. See: https://github.com/scikit-learn/scikit-learn/issues/21755 */display: inline-block !important;position: relative;}#sk-container-id-1 div.sk-text-repr-fallback {display: none;}</style><div id=\"sk-container-id-1\" class=\"sk-top-container\"><div class=\"sk-text-repr-fallback\"><pre>RandomizedSearchCV(cv=5, estimator=Pipeline(steps=[(&#x27;lasso&#x27;, Lasso())]),\n",
       "                   n_iter=9999, n_jobs=-1,\n",
       "                   param_distributions={&#x27;lasso__alpha&#x27;: array([1.000e-02, 2.000e-02, 3.000e-02, ..., 9.997e+01, 9.998e+01,\n",
       "       9.999e+01])},\n",
       "                   random_state=69, return_train_score=True,\n",
       "                   scoring=&#x27;neg_mean_squared_error&#x27;)</pre><b>In a Jupyter environment, please rerun this cell to show the HTML representation or trust the notebook. <br />On GitHub, the HTML representation is unable to render, please try loading this page with nbviewer.org.</b></div><div class=\"sk-container\" hidden><div class=\"sk-item sk-dashed-wrapped\"><div class=\"sk-label-container\"><div class=\"sk-label sk-toggleable\"><input class=\"sk-toggleable__control sk-hidden--visually\" id=\"sk-estimator-id-1\" type=\"checkbox\" ><label for=\"sk-estimator-id-1\" class=\"sk-toggleable__label sk-toggleable__label-arrow\">RandomizedSearchCV</label><div class=\"sk-toggleable__content\"><pre>RandomizedSearchCV(cv=5, estimator=Pipeline(steps=[(&#x27;lasso&#x27;, Lasso())]),\n",
       "                   n_iter=9999, n_jobs=-1,\n",
       "                   param_distributions={&#x27;lasso__alpha&#x27;: array([1.000e-02, 2.000e-02, 3.000e-02, ..., 9.997e+01, 9.998e+01,\n",
       "       9.999e+01])},\n",
       "                   random_state=69, return_train_score=True,\n",
       "                   scoring=&#x27;neg_mean_squared_error&#x27;)</pre></div></div></div><div class=\"sk-parallel\"><div class=\"sk-parallel-item\"><div class=\"sk-item\"><div class=\"sk-label-container\"><div class=\"sk-label sk-toggleable\"><input class=\"sk-toggleable__control sk-hidden--visually\" id=\"sk-estimator-id-2\" type=\"checkbox\" ><label for=\"sk-estimator-id-2\" class=\"sk-toggleable__label sk-toggleable__label-arrow\">estimator: Pipeline</label><div class=\"sk-toggleable__content\"><pre>Pipeline(steps=[(&#x27;lasso&#x27;, Lasso())])</pre></div></div></div><div class=\"sk-serial\"><div class=\"sk-item\"><div class=\"sk-serial\"><div class=\"sk-item\"><div class=\"sk-estimator sk-toggleable\"><input class=\"sk-toggleable__control sk-hidden--visually\" id=\"sk-estimator-id-3\" type=\"checkbox\" ><label for=\"sk-estimator-id-3\" class=\"sk-toggleable__label sk-toggleable__label-arrow\">Lasso</label><div class=\"sk-toggleable__content\"><pre>Lasso()</pre></div></div></div></div></div></div></div></div></div></div></div></div>"
      ],
      "text/plain": [
       "RandomizedSearchCV(cv=5, estimator=Pipeline(steps=[('lasso', Lasso())]),\n",
       "                   n_iter=9999, n_jobs=-1,\n",
       "                   param_distributions={'lasso__alpha': array([1.000e-02, 2.000e-02, 3.000e-02, ..., 9.997e+01, 9.998e+01,\n",
       "       9.999e+01])},\n",
       "                   random_state=69, return_train_score=True,\n",
       "                   scoring='neg_mean_squared_error')"
      ]
     },
     "execution_count": 19,
     "metadata": {},
     "output_type": "execute_result"
    }
   ],
   "source": [
    "# Fit the RandomizedSearchCV object to the training data\n",
    "random_search_lasso.fit(X_train_scaled, y_train)\n",
    "\n",
    "\n"
   ]
  },
  {
   "cell_type": "code",
   "execution_count": 20,
   "id": "d4a2dfb3",
   "metadata": {},
   "outputs": [
    {
     "name": "stdout",
     "output_type": "stream",
     "text": [
      "Best alpha is : 0.01\n"
     ]
    }
   ],
   "source": [
    "best_alpha = random_search_lasso.best_params_['lasso__alpha']\n",
    "print(\"Best alpha is :\", best_alpha)"
   ]
  },
  {
   "cell_type": "code",
   "execution_count": 21,
   "id": "9b411e5c",
   "metadata": {},
   "outputs": [
    {
     "name": "stdout",
     "output_type": "stream",
     "text": [
      "Mean Squared Error Train (Lasso): 0.06847457554349384\n",
      "Mean Squared Error Test (Lasso): 0.06939927625564418\n"
     ]
    }
   ],
   "source": [
    "# Make predictions on the test data\n",
    "predictions_test = random_search_lasso.predict(X_test_scaled)\n",
    "predictions_train = random_search_lasso.predict(X_train_scaled)\n",
    "\n",
    "# Evaluate the model\n",
    "# Example: Calculate mean squared error\n",
    "mse_test = mean_squared_error(y_test, predictions_test)\n",
    "mse_train= mean_squared_error(y_train,predictions_train)\n",
    "print(\"Mean Squared Error Train (Lasso):\", mse_train)\n",
    "print(\"Mean Squared Error Test (Lasso):\", mse_test)"
   ]
  },
  {
   "cell_type": "markdown",
   "id": "fa8c220a",
   "metadata": {},
   "source": [
    "Ridge Regression"
   ]
  },
  {
   "cell_type": "code",
   "execution_count": 22,
   "id": "efaf9f18",
   "metadata": {},
   "outputs": [],
   "source": [
    "import numpy as np\n",
    "from sklearn.model_selection import RandomizedSearchCV\n",
    "from sklearn.pipeline import Pipeline\n",
    "from sklearn.linear_model import Ridge\n",
    "\n",
    "# Define the pipeline including any preprocessing steps\n",
    "# Replace 'preprocessing_step' with your actual preprocessing steps\n",
    "ridge_pipeline = Pipeline([\n",
    "    ('ridge', Ridge())  # Ridge regression model\n",
    "])\n"
   ]
  },
  {
   "cell_type": "code",
   "execution_count": 23,
   "id": "d1f00dbc",
   "metadata": {},
   "outputs": [],
   "source": [
    "\n",
    "# Define the alpha values to search over\n",
    "alphas = np.arange(0.01, 100, 0.01)\n",
    "\n",
    "# Define the hyperparameter distributions to search over\n",
    "param_distributions = {\n",
    "    'ridge__alpha': alphas  # Ridge alpha (regularization parameter) values\n",
    "}\n"
   ]
  },
  {
   "cell_type": "code",
   "execution_count": 24,
   "id": "164cd35b",
   "metadata": {},
   "outputs": [],
   "source": [
    "\n",
    "random_search_ridge = RandomizedSearchCV(\n",
    "    ridge_pipeline,\n",
    "    param_distributions=param_distributions,\n",
    "    n_iter=len(alphas),  # Number of iterations is equal to the number of alpha values\n",
    "    cv=5,\n",
    "    scoring='neg_mean_squared_error',\n",
    "    return_train_score=True,\n",
    "    n_jobs=-1,  # Use all available cores\n",
    "    random_state=69\n",
    ")\n"
   ]
  },
  {
   "cell_type": "code",
   "execution_count": 25,
   "id": "ba1b30e0",
   "metadata": {},
   "outputs": [],
   "source": [
    "\n",
    "# Fit the RandomizedSearchCV object to the training data\n",
    "random_search_ridge.fit(X_train_scaled, y_train)\n",
    "\n",
    "# Extract the best alpha\n",
    "best_alpha_ridge = random_search_ridge.best_params_['ridge__alpha']\n"
   ]
  },
  {
   "cell_type": "code",
   "execution_count": 27,
   "id": "ce04abac",
   "metadata": {},
   "outputs": [
    {
     "name": "stdout",
     "output_type": "stream",
     "text": [
      "99.99000000000001\n"
     ]
    }
   ],
   "source": [
    "print(best_alpha_ridge)"
   ]
  },
  {
   "cell_type": "code",
   "execution_count": 28,
   "id": "6638af13",
   "metadata": {},
   "outputs": [
    {
     "name": "stdout",
     "output_type": "stream",
     "text": [
      "Mean Squared Error Train (Ridge): 0.0668391362678708\n",
      "Mean Squared Error Test (Ridge): 0.06768778229021302\n"
     ]
    }
   ],
   "source": [
    "# Make predictions on the test data\n",
    "predictions_test = random_search_ridge.predict(X_test_scaled)\n",
    "predictions_train = random_search_ridge.predict(X_train_scaled)\n",
    "\n",
    "# Evaluate the model\n",
    "# Calculate mean squared error\n",
    "mse_test = mean_squared_error(y_test, predictions_test)\n",
    "mse_train= mean_squared_error(y_train,predictions_train)\n",
    "print(\"Mean Squared Error Train (Ridge):\", mse_train)\n",
    "print(\"Mean Squared Error Test (Ridge):\", mse_test)"
   ]
  },
  {
   "cell_type": "markdown",
   "id": "096370f9",
   "metadata": {},
   "source": [
    "RANDOM FOREST CLASSIFIER"
   ]
  },
  {
   "cell_type": "code",
   "execution_count": 31,
   "id": "a1bd475e",
   "metadata": {},
   "outputs": [],
   "source": [
    "\n",
    "# Define the parameter grid to search\n",
    "param_grid = {\n",
    "    'n_estimators': [50, 150,200,250],\n",
    "    'max_depth': [3,5,10]\n",
    "}\n"
   ]
  },
  {
   "cell_type": "code",
   "execution_count": 32,
   "id": "1907be44",
   "metadata": {},
   "outputs": [],
   "source": [
    "\n",
    "# Instantiate the RandomForestClassifier\n",
    "clf = RandomForestClassifier(\n",
    "    random_state=69,\n",
    "    class_weight='balanced'\n",
    ")\n"
   ]
  },
  {
   "cell_type": "code",
   "execution_count": 33,
   "id": "6437431a",
   "metadata": {},
   "outputs": [],
   "source": [
    "\n",
    "# Instantiate the GridSearchCV object\n",
    "grid_search = GridSearchCV(clf, param_grid, cv=5, scoring='accuracy')"
   ]
  },
  {
   "cell_type": "code",
   "execution_count": 34,
   "id": "99a48384",
   "metadata": {},
   "outputs": [],
   "source": [
    "\n",
    "# Perform the grid search on the tuning subset\n",
    "grid_search.fit(X_train_scaled, y_train)\n",
    "\n",
    "# Get the best parameters\n",
    "best_params = grid_search.best_params_\n"
   ]
  },
  {
   "cell_type": "code",
   "execution_count": 35,
   "id": "bdf463a8",
   "metadata": {},
   "outputs": [
    {
     "name": "stdout",
     "output_type": "stream",
     "text": [
      "50\n",
      "3\n"
     ]
    }
   ],
   "source": [
    "print (best_params['n_estimators'])\n",
    "print (best_params['max_depth'])"
   ]
  },
  {
   "cell_type": "code",
   "execution_count": 36,
   "id": "e2d18c09",
   "metadata": {},
   "outputs": [],
   "source": [
    "\n",
    "# Instantiate the RandomForestClassifier with the best parameters\n",
    "best_clf = RandomForestClassifier(\n",
    "    n_estimators=best_params['n_estimators'],\n",
    "    max_depth=best_params['max_depth'],\n",
    "    random_state=69,\n",
    "    class_weight='balanced'\n",
    ")"
   ]
  },
  {
   "cell_type": "code",
   "execution_count": 37,
   "id": "d8db0597",
   "metadata": {},
   "outputs": [
    {
     "data": {
      "text/html": [
       "<style>#sk-container-id-2 {color: black;background-color: white;}#sk-container-id-2 pre{padding: 0;}#sk-container-id-2 div.sk-toggleable {background-color: white;}#sk-container-id-2 label.sk-toggleable__label {cursor: pointer;display: block;width: 100%;margin-bottom: 0;padding: 0.3em;box-sizing: border-box;text-align: center;}#sk-container-id-2 label.sk-toggleable__label-arrow:before {content: \"▸\";float: left;margin-right: 0.25em;color: #696969;}#sk-container-id-2 label.sk-toggleable__label-arrow:hover:before {color: black;}#sk-container-id-2 div.sk-estimator:hover label.sk-toggleable__label-arrow:before {color: black;}#sk-container-id-2 div.sk-toggleable__content {max-height: 0;max-width: 0;overflow: hidden;text-align: left;background-color: #f0f8ff;}#sk-container-id-2 div.sk-toggleable__content pre {margin: 0.2em;color: black;border-radius: 0.25em;background-color: #f0f8ff;}#sk-container-id-2 input.sk-toggleable__control:checked~div.sk-toggleable__content {max-height: 200px;max-width: 100%;overflow: auto;}#sk-container-id-2 input.sk-toggleable__control:checked~label.sk-toggleable__label-arrow:before {content: \"▾\";}#sk-container-id-2 div.sk-estimator input.sk-toggleable__control:checked~label.sk-toggleable__label {background-color: #d4ebff;}#sk-container-id-2 div.sk-label input.sk-toggleable__control:checked~label.sk-toggleable__label {background-color: #d4ebff;}#sk-container-id-2 input.sk-hidden--visually {border: 0;clip: rect(1px 1px 1px 1px);clip: rect(1px, 1px, 1px, 1px);height: 1px;margin: -1px;overflow: hidden;padding: 0;position: absolute;width: 1px;}#sk-container-id-2 div.sk-estimator {font-family: monospace;background-color: #f0f8ff;border: 1px dotted black;border-radius: 0.25em;box-sizing: border-box;margin-bottom: 0.5em;}#sk-container-id-2 div.sk-estimator:hover {background-color: #d4ebff;}#sk-container-id-2 div.sk-parallel-item::after {content: \"\";width: 100%;border-bottom: 1px solid gray;flex-grow: 1;}#sk-container-id-2 div.sk-label:hover label.sk-toggleable__label {background-color: #d4ebff;}#sk-container-id-2 div.sk-serial::before {content: \"\";position: absolute;border-left: 1px solid gray;box-sizing: border-box;top: 0;bottom: 0;left: 50%;z-index: 0;}#sk-container-id-2 div.sk-serial {display: flex;flex-direction: column;align-items: center;background-color: white;padding-right: 0.2em;padding-left: 0.2em;position: relative;}#sk-container-id-2 div.sk-item {position: relative;z-index: 1;}#sk-container-id-2 div.sk-parallel {display: flex;align-items: stretch;justify-content: center;background-color: white;position: relative;}#sk-container-id-2 div.sk-item::before, #sk-container-id-2 div.sk-parallel-item::before {content: \"\";position: absolute;border-left: 1px solid gray;box-sizing: border-box;top: 0;bottom: 0;left: 50%;z-index: -1;}#sk-container-id-2 div.sk-parallel-item {display: flex;flex-direction: column;z-index: 1;position: relative;background-color: white;}#sk-container-id-2 div.sk-parallel-item:first-child::after {align-self: flex-end;width: 50%;}#sk-container-id-2 div.sk-parallel-item:last-child::after {align-self: flex-start;width: 50%;}#sk-container-id-2 div.sk-parallel-item:only-child::after {width: 0;}#sk-container-id-2 div.sk-dashed-wrapped {border: 1px dashed gray;margin: 0 0.4em 0.5em 0.4em;box-sizing: border-box;padding-bottom: 0.4em;background-color: white;}#sk-container-id-2 div.sk-label label {font-family: monospace;font-weight: bold;display: inline-block;line-height: 1.2em;}#sk-container-id-2 div.sk-label-container {text-align: center;}#sk-container-id-2 div.sk-container {/* jupyter's `normalize.less` sets `[hidden] { display: none; }` but bootstrap.min.css set `[hidden] { display: none !important; }` so we also need the `!important` here to be able to override the default hidden behavior on the sphinx rendered scikit-learn.org. See: https://github.com/scikit-learn/scikit-learn/issues/21755 */display: inline-block !important;position: relative;}#sk-container-id-2 div.sk-text-repr-fallback {display: none;}</style><div id=\"sk-container-id-2\" class=\"sk-top-container\"><div class=\"sk-text-repr-fallback\"><pre>RandomForestClassifier(class_weight=&#x27;balanced&#x27;, max_depth=3, n_estimators=50,\n",
       "                       random_state=69)</pre><b>In a Jupyter environment, please rerun this cell to show the HTML representation or trust the notebook. <br />On GitHub, the HTML representation is unable to render, please try loading this page with nbviewer.org.</b></div><div class=\"sk-container\" hidden><div class=\"sk-item\"><div class=\"sk-estimator sk-toggleable\"><input class=\"sk-toggleable__control sk-hidden--visually\" id=\"sk-estimator-id-4\" type=\"checkbox\" checked><label for=\"sk-estimator-id-4\" class=\"sk-toggleable__label sk-toggleable__label-arrow\">RandomForestClassifier</label><div class=\"sk-toggleable__content\"><pre>RandomForestClassifier(class_weight=&#x27;balanced&#x27;, max_depth=3, n_estimators=50,\n",
       "                       random_state=69)</pre></div></div></div></div></div>"
      ],
      "text/plain": [
       "RandomForestClassifier(class_weight='balanced', max_depth=3, n_estimators=50,\n",
       "                       random_state=69)"
      ]
     },
     "execution_count": 37,
     "metadata": {},
     "output_type": "execute_result"
    }
   ],
   "source": [
    "\n",
    "# Fit the classifier with the best parameters to the remaining training data\n",
    "best_clf.fit(X_train_scaled, y_train)\n"
   ]
  },
  {
   "cell_type": "code",
   "execution_count": 41,
   "id": "4bfb6864",
   "metadata": {},
   "outputs": [
    {
     "name": "stdout",
     "output_type": "stream",
     "text": [
      "Best Parameters: {'max_depth': 3, 'n_estimators': 50}\n",
      "Training accuracy: 0.9623016962178185\n",
      "Test accuracy: 0.9607991953182151\n"
     ]
    }
   ],
   "source": [
    "from sklearn.metrics import accuracy_score\n",
    "# Make predictions on the training and test data\n",
    "y_train_pred = best_clf.predict(X_train_scaled)\n",
    "y_test_pred = best_clf.predict(X_test_scaled)\n",
    "\n",
    "# Calculate accuracy and precision for training data\n",
    "train_accuracy = accuracy_score(y_train, y_train_pred)\n",
    "\n",
    "\n",
    "# Calculate accuracy and precision for test data\n",
    "test_accuracy = accuracy_score(y_test, y_test_pred)\n",
    "\n",
    "\n",
    "# Print the results\n",
    "print(\"Best Parameters:\", best_params)\n",
    "print(\"Training accuracy:\", train_accuracy)\n",
    "\n",
    "print(\"Test accuracy:\", test_accuracy)\n",
    "\n"
   ]
  },
  {
   "cell_type": "code",
   "execution_count": 42,
   "id": "4e86cbe4",
   "metadata": {},
   "outputs": [
    {
     "name": "stdout",
     "output_type": "stream",
     "text": [
      "Training MSE: 0.03769830378218148\n",
      "Test MSE: 0.03920080468178493\n"
     ]
    }
   ],
   "source": [
    "#Calculate MSE for training and test data\n",
    "train_mse = mean_squared_error(y_train, y_train_pred)\n",
    "test_mse = mean_squared_error(y_test, y_test_pred)\n",
    "\n",
    "print(\"Training MSE:\", train_mse)\n",
    "print(\"Test MSE:\", test_mse)"
   ]
  },
  {
   "cell_type": "code",
   "execution_count": 48,
   "id": "74b4374e",
   "metadata": {},
   "outputs": [
    {
     "name": "stdout",
     "output_type": "stream",
     "text": [
      "Feature ranking:\n",
      "1. feature 20 (0.363718) - recoveries\n",
      "2. feature 21 (0.306790) - collection_recovery_fee\n",
      "3. feature 22 (0.127809) - last_pymnt_amnt\n",
      "4. feature 17 (0.070668) - total_rec_prncp\n",
      "5. feature 3 (0.050194) - grade\n",
      "6. feature 1 (0.027419) - int_rate\n",
      "7. feature 19 (0.018079) - total_rec_late_fee\n",
      "8. feature 16 (0.016292) - total_pymnt_inv\n",
      "9. feature 15 (0.007410) - total_pymnt\n",
      "10. feature 2 (0.002291) - installment\n",
      "11. feature 26 (0.001998) - total_rev_hi_lim\n",
      "12. feature 9 (0.001647) - inq_last_6mths\n",
      "13. feature 18 (0.001594) - total_rec_int\n",
      "14. feature 7 (0.001567) - dti\n",
      "15. feature 0 (0.001197) - loan_amnt\n",
      "16. feature 23 (0.000431) - application_type\n",
      "17. feature 13 (0.000334) - revol_util\n",
      "18. feature 14 (0.000282) - total_acc\n",
      "19. feature 6 (0.000138) - annual_inc\n",
      "20. feature 5 (0.000138) - home_ownership\n",
      "21. feature 12 (0.000004) - revol_bal\n",
      "22. feature 11 (0.000000) - pub_rec\n",
      "23. feature 10 (0.000000) - open_acc\n",
      "24. feature 8 (0.000000) - delinq_2yrs\n",
      "25. feature 25 (0.000000) - tot_cur_bal\n",
      "26. feature 4 (0.000000) - emp_length\n",
      "27. feature 24 (0.000000) - acc_now_delinq\n"
     ]
    },
    {
     "data": {
      "image/png": "[encoded data removed]",
      "text/plain": [
       "<Figure size 1000x600 with 1 Axes>"
      ]
     },
     "metadata": {},
     "output_type": "display_data"
    }
   ],
   "source": [
    "#Get feature importances\n",
    "importances = best_clf.feature_importances_\n",
    "\n",
    "variable_names = ['loan_amnt', 'int_rate', 'installment', 'grade' , 'emp_length' , 'home_ownership' , 'annual_inc' , 'dti' , 'delinq_2yrs' , 'inq_last_6mths' , 'open_acc' , 'pub_rec' , 'revol_bal' , 'revol_util' , 'total_acc' , 'total_pymnt' , 'total_pymnt_inv' , 'total_rec_prncp' , 'total_rec_int' , 'total_rec_late_fee' , 'recoveries' , 'collection_recovery_fee' , 'last_pymnt_amnt' , 'application_type' , 'acc_now_delinq' , 'tot_cur_bal' , 'total_rev_hi_lim']\n",
    "\n",
    "#Sort feature importances in descending order\n",
    "indices = np.argsort(importances)[::-1]\n",
    "\n",
    "#Print the feature ranking\n",
    "print(\"Feature ranking:\")\n",
    "\n",
    "\n",
    "for f in range(X_train_scaled.shape[1]):\n",
    "    print(\"%d. feature %d (%f) - %s\" % (f + 1, indices[f], importances[indices[f]], variable_names[indices[f]]))\n",
    "\n",
    "#Plot the feature importances\n",
    "plt.figure(figsize=(10, 6))\n",
    "plt.title(\"Feature importances\")\n",
    "plt.bar(range(X_train_scaled.shape[1]), importances[indices], color=\"b\", align=\"center\")\n",
    "plt.xticks(range(X_train_scaled.shape[1]), indices)\n",
    "plt.xlim([-1, X_train_scaled.shape[1]])\n",
    "plt.xlabel(\"Feature index\")\n",
    "plt.ylabel(\"Feature importance\")\n",
    "plt.show()\n"
   ]
  },
  {
   "cell_type": "code",
   "execution_count": 49,
   "id": "7daa8724",
   "metadata": {},
   "outputs": [
    {
     "name": "stdout",
     "output_type": "stream",
     "text": [
      "Variable corresponding to index 20: recoveries\n",
      "Variable corresponding to index 20: collection_recovery_fee\n",
      "Variable corresponding to index 20: total_rec_prncp\n",
      "Variable corresponding to index 20: grade\n",
      "Variable corresponding to index 20: int_rate\n",
      "Variable corresponding to index 20: total_rec_late_fee\n"
     ]
    }
   ],
   "source": [
    "print(\"Variable corresponding to index 20:\", variable_names[20])\n",
    "print(\"Variable corresponding to index 20:\", variable_names[21])\n",
    "print(\"Variable corresponding to index 20:\", variable_names[17])\n",
    "print(\"Variable corresponding to index 20:\", variable_names[3])\n",
    "print(\"Variable corresponding to index 20:\", variable_names[1])\n",
    "print(\"Variable corresponding to index 20:\", variable_names[19])"
   ]
  },
  {
   "cell_type": "markdown",
   "id": "d7e1a6c8",
   "metadata": {},
   "source": [
    "\n",
    "\n",
    "Neural Network Model"
   ]
  },
  {
   "cell_type": "code",
   "execution_count": 50,
   "id": "2a4fe621",
   "metadata": {},
   "outputs": [
    {
     "name": "stderr",
     "output_type": "stream",
     "text": [
      "C:\\Users\\shero\\anaconda3\\lib\\site-packages\\keras\\src\\layers\\core\\dense.py:86: UserWarning: Do not pass an `input_shape`/`input_dim` argument to a layer. When using Sequential models, prefer using an `Input(shape)` object as the first layer in the model instead.\n",
      "  super().__init__(activity_regularizer=activity_regularizer, **kwargs)\n"
     ]
    },
    {
     "name": "stdout",
     "output_type": "stream",
     "text": [
      "Epoch 1/50\n",
      "\u001b[1m5466/5466\u001b[0m \u001b[32m━━━━━━━━━━━━━━━━━━━━\u001b[0m\u001b[37m\u001b[0m \u001b[1m6s\u001b[0m 983us/step - accuracy: 0.9425 - loss: 0.1705 - val_accuracy: 0.9582 - val_loss: 0.1327\n",
      "Epoch 2/50\n",
      "\u001b[1m5466/5466\u001b[0m \u001b[32m━━━━━━━━━━━━━━━━━━━━\u001b[0m\u001b[37m\u001b[0m \u001b[1m6s\u001b[0m 1ms/step - accuracy: 0.9616 - loss: 0.1225 - val_accuracy: 0.9600 - val_loss: 0.1251\n",
      "Epoch 3/50\n",
      "\u001b[1m5466/5466\u001b[0m \u001b[32m━━━━━━━━━━━━━━━━━━━━\u001b[0m\u001b[37m\u001b[0m \u001b[1m5s\u001b[0m 954us/step - accuracy: 0.9631 - loss: 0.1191 - val_accuracy: 0.9610 - val_loss: 0.1229\n",
      "Epoch 4/50\n",
      "\u001b[1m5466/5466\u001b[0m \u001b[32m━━━━━━━━━━━━━━━━━━━━\u001b[0m\u001b[37m\u001b[0m \u001b[1m5s\u001b[0m 933us/step - accuracy: 0.9632 - loss: 0.1165 - val_accuracy: 0.9605 - val_loss: 0.1235\n",
      "Epoch 5/50\n",
      "\u001b[1m5466/5466\u001b[0m \u001b[32m━━━━━━━━━━━━━━━━━━━━\u001b[0m\u001b[37m\u001b[0m \u001b[1m5s\u001b[0m 918us/step - accuracy: 0.9637 - loss: 0.1153 - val_accuracy: 0.9615 - val_loss: 0.1209\n",
      "Epoch 6/50\n",
      "\u001b[1m5466/5466\u001b[0m \u001b[32m━━━━━━━━━━━━━━━━━━━━\u001b[0m\u001b[37m\u001b[0m \u001b[1m5s\u001b[0m 937us/step - accuracy: 0.9631 - loss: 0.1161 - val_accuracy: 0.9620 - val_loss: 0.1212\n",
      "Epoch 7/50\n",
      "\u001b[1m5466/5466\u001b[0m \u001b[32m━━━━━━━━━━━━━━━━━━━━\u001b[0m\u001b[37m\u001b[0m \u001b[1m5s\u001b[0m 931us/step - accuracy: 0.9637 - loss: 0.1154 - val_accuracy: 0.9613 - val_loss: 0.1202\n",
      "Epoch 8/50\n",
      "\u001b[1m5466/5466\u001b[0m \u001b[32m━━━━━━━━━━━━━━━━━━━━\u001b[0m\u001b[37m\u001b[0m \u001b[1m5s\u001b[0m 966us/step - accuracy: 0.9639 - loss: 0.1139 - val_accuracy: 0.9616 - val_loss: 0.1197\n",
      "Epoch 9/50\n",
      "\u001b[1m5466/5466\u001b[0m \u001b[32m━━━━━━━━━━━━━━━━━━━━\u001b[0m\u001b[37m\u001b[0m \u001b[1m5s\u001b[0m 954us/step - accuracy: 0.9636 - loss: 0.1146 - val_accuracy: 0.9622 - val_loss: 0.1193\n",
      "Epoch 10/50\n",
      "\u001b[1m5466/5466\u001b[0m \u001b[32m━━━━━━━━━━━━━━━━━━━━\u001b[0m\u001b[37m\u001b[0m \u001b[1m5s\u001b[0m 940us/step - accuracy: 0.9644 - loss: 0.1118 - val_accuracy: 0.9624 - val_loss: 0.1216\n",
      "Epoch 11/50\n",
      "\u001b[1m5466/5466\u001b[0m \u001b[32m━━━━━━━━━━━━━━━━━━━━\u001b[0m\u001b[37m\u001b[0m \u001b[1m5s\u001b[0m 958us/step - accuracy: 0.9644 - loss: 0.1121 - val_accuracy: 0.9608 - val_loss: 0.1212\n",
      "Epoch 12/50\n",
      "\u001b[1m5466/5466\u001b[0m \u001b[32m━━━━━━━━━━━━━━━━━━━━\u001b[0m\u001b[37m\u001b[0m \u001b[1m5s\u001b[0m 930us/step - accuracy: 0.9642 - loss: 0.1121 - val_accuracy: 0.9620 - val_loss: 0.1197\n",
      "Epoch 13/50\n",
      "\u001b[1m5466/5466\u001b[0m \u001b[32m━━━━━━━━━━━━━━━━━━━━\u001b[0m\u001b[37m\u001b[0m \u001b[1m5s\u001b[0m 933us/step - accuracy: 0.9646 - loss: 0.1114 - val_accuracy: 0.9626 - val_loss: 0.1169\n",
      "Epoch 14/50\n",
      "\u001b[1m5466/5466\u001b[0m \u001b[32m━━━━━━━━━━━━━━━━━━━━\u001b[0m\u001b[37m\u001b[0m \u001b[1m5s\u001b[0m 956us/step - accuracy: 0.9650 - loss: 0.1100 - val_accuracy: 0.9627 - val_loss: 0.1181\n",
      "Epoch 15/50\n",
      "\u001b[1m5466/5466\u001b[0m \u001b[32m━━━━━━━━━━━━━━━━━━━━\u001b[0m\u001b[37m\u001b[0m \u001b[1m5s\u001b[0m 951us/step - accuracy: 0.9653 - loss: 0.1080 - val_accuracy: 0.9630 - val_loss: 0.1169\n",
      "Epoch 16/50\n",
      "\u001b[1m5466/5466\u001b[0m \u001b[32m━━━━━━━━━━━━━━━━━━━━\u001b[0m\u001b[37m\u001b[0m \u001b[1m5s\u001b[0m 943us/step - accuracy: 0.9652 - loss: 0.1096 - val_accuracy: 0.9625 - val_loss: 0.1170\n",
      "Epoch 17/50\n",
      "\u001b[1m5466/5466\u001b[0m \u001b[32m━━━━━━━━━━━━━━━━━━━━\u001b[0m\u001b[37m\u001b[0m \u001b[1m5s\u001b[0m 939us/step - accuracy: 0.9657 - loss: 0.1079 - val_accuracy: 0.9621 - val_loss: 0.1177\n",
      "Epoch 18/50\n",
      "\u001b[1m5466/5466\u001b[0m \u001b[32m━━━━━━━━━━━━━━━━━━━━\u001b[0m\u001b[37m\u001b[0m \u001b[1m5s\u001b[0m 933us/step - accuracy: 0.9656 - loss: 0.1077 - val_accuracy: 0.9627 - val_loss: 0.1174\n",
      "Epoch 19/50\n",
      "\u001b[1m5466/5466\u001b[0m \u001b[32m━━━━━━━━━━━━━━━━━━━━\u001b[0m\u001b[37m\u001b[0m \u001b[1m5s\u001b[0m 941us/step - accuracy: 0.9649 - loss: 0.1086 - val_accuracy: 0.9632 - val_loss: 0.1168\n",
      "Epoch 20/50\n",
      "\u001b[1m5466/5466\u001b[0m \u001b[32m━━━━━━━━━━━━━━━━━━━━\u001b[0m\u001b[37m\u001b[0m \u001b[1m5s\u001b[0m 952us/step - accuracy: 0.9659 - loss: 0.1068 - val_accuracy: 0.9620 - val_loss: 0.1172\n",
      "Epoch 21/50\n",
      "\u001b[1m5466/5466\u001b[0m \u001b[32m━━━━━━━━━━━━━━━━━━━━\u001b[0m\u001b[37m\u001b[0m \u001b[1m5s\u001b[0m 970us/step - accuracy: 0.9656 - loss: 0.1072 - val_accuracy: 0.9618 - val_loss: 0.1205\n",
      "Epoch 22/50\n",
      "\u001b[1m5466/5466\u001b[0m \u001b[32m━━━━━━━━━━━━━━━━━━━━\u001b[0m\u001b[37m\u001b[0m \u001b[1m6s\u001b[0m 1ms/step - accuracy: 0.9649 - loss: 0.1089 - val_accuracy: 0.9632 - val_loss: 0.1171\n",
      "Epoch 23/50\n",
      "\u001b[1m5466/5466\u001b[0m \u001b[32m━━━━━━━━━━━━━━━━━━━━\u001b[0m\u001b[37m\u001b[0m \u001b[1m5s\u001b[0m 953us/step - accuracy: 0.9663 - loss: 0.1058 - val_accuracy: 0.9627 - val_loss: 0.1184\n",
      "Epoch 24/50\n",
      "\u001b[1m5466/5466\u001b[0m \u001b[32m━━━━━━━━━━━━━━━━━━━━\u001b[0m\u001b[37m\u001b[0m \u001b[1m5s\u001b[0m 936us/step - accuracy: 0.9656 - loss: 0.1074 - val_accuracy: 0.9627 - val_loss: 0.1221\n",
      "Epoch 25/50\n",
      "\u001b[1m5466/5466\u001b[0m \u001b[32m━━━━━━━━━━━━━━━━━━━━\u001b[0m\u001b[37m\u001b[0m \u001b[1m5s\u001b[0m 952us/step - accuracy: 0.9662 - loss: 0.1053 - val_accuracy: 0.9633 - val_loss: 0.1181\n",
      "Epoch 26/50\n",
      "\u001b[1m5466/5466\u001b[0m \u001b[32m━━━━━━━━━━━━━━━━━━━━\u001b[0m\u001b[37m\u001b[0m \u001b[1m5s\u001b[0m 971us/step - accuracy: 0.9666 - loss: 0.1040 - val_accuracy: 0.9634 - val_loss: 0.1168\n",
      "Epoch 27/50\n",
      "\u001b[1m5466/5466\u001b[0m \u001b[32m━━━━━━━━━━━━━━━━━━━━\u001b[0m\u001b[37m\u001b[0m \u001b[1m5s\u001b[0m 948us/step - accuracy: 0.9660 - loss: 0.1051 - val_accuracy: 0.9627 - val_loss: 0.1172\n",
      "Epoch 28/50\n",
      "\u001b[1m5466/5466\u001b[0m \u001b[32m━━━━━━━━━━━━━━━━━━━━\u001b[0m\u001b[37m\u001b[0m \u001b[1m5s\u001b[0m 944us/step - accuracy: 0.9666 - loss: 0.1039 - val_accuracy: 0.9620 - val_loss: 0.1177\n",
      "Epoch 29/50\n",
      "\u001b[1m5466/5466\u001b[0m \u001b[32m━━━━━━━━━━━━━━━━━━━━\u001b[0m\u001b[37m\u001b[0m \u001b[1m5s\u001b[0m 956us/step - accuracy: 0.9665 - loss: 0.1040 - val_accuracy: 0.9634 - val_loss: 0.1163\n",
      "Epoch 30/50\n",
      "\u001b[1m5466/5466\u001b[0m \u001b[32m━━━━━━━━━━━━━━━━━━━━\u001b[0m\u001b[37m\u001b[0m \u001b[1m5s\u001b[0m 936us/step - accuracy: 0.9669 - loss: 0.1028 - val_accuracy: 0.9636 - val_loss: 0.1170\n",
      "Epoch 31/50\n",
      "\u001b[1m5466/5466\u001b[0m \u001b[32m━━━━━━━━━━━━━━━━━━━━\u001b[0m\u001b[37m\u001b[0m \u001b[1m5s\u001b[0m 958us/step - accuracy: 0.9666 - loss: 0.1042 - val_accuracy: 0.9623 - val_loss: 0.1183\n",
      "Epoch 32/50\n",
      "\u001b[1m5466/5466\u001b[0m \u001b[32m━━━━━━━━━━━━━━━━━━━━\u001b[0m\u001b[37m\u001b[0m \u001b[1m5s\u001b[0m 955us/step - accuracy: 0.9668 - loss: 0.1024 - val_accuracy: 0.9627 - val_loss: 0.1167\n",
      "Epoch 33/50\n",
      "\u001b[1m5466/5466\u001b[0m \u001b[32m━━━━━━━━━━━━━━━━━━━━\u001b[0m\u001b[37m\u001b[0m \u001b[1m5s\u001b[0m 951us/step - accuracy: 0.9661 - loss: 0.1042 - val_accuracy: 0.9638 - val_loss: 0.1161\n",
      "Epoch 34/50\n",
      "\u001b[1m5466/5466\u001b[0m \u001b[32m━━━━━━━━━━━━━━━━━━━━\u001b[0m\u001b[37m\u001b[0m \u001b[1m5s\u001b[0m 961us/step - accuracy: 0.9668 - loss: 0.1035 - val_accuracy: 0.9633 - val_loss: 0.1190\n",
      "Epoch 35/50\n",
      "\u001b[1m5466/5466\u001b[0m \u001b[32m━━━━━━━━━━━━━━━━━━━━\u001b[0m\u001b[37m\u001b[0m \u001b[1m5s\u001b[0m 983us/step - accuracy: 0.9665 - loss: 0.1026 - val_accuracy: 0.9632 - val_loss: 0.1162\n",
      "Epoch 36/50\n",
      "\u001b[1m5466/5466\u001b[0m \u001b[32m━━━━━━━━━━━━━━━━━━━━\u001b[0m\u001b[37m\u001b[0m \u001b[1m5s\u001b[0m 983us/step - accuracy: 0.9675 - loss: 0.1011 - val_accuracy: 0.9635 - val_loss: 0.1165\n",
      "Epoch 37/50\n",
      "\u001b[1m5466/5466\u001b[0m \u001b[32m━━━━━━━━━━━━━━━━━━━━\u001b[0m\u001b[37m\u001b[0m \u001b[1m5s\u001b[0m 945us/step - accuracy: 0.9675 - loss: 0.1010 - val_accuracy: 0.9618 - val_loss: 0.1185\n",
      "Epoch 38/50\n",
      "\u001b[1m5466/5466\u001b[0m \u001b[32m━━━━━━━━━━━━━━━━━━━━\u001b[0m\u001b[37m\u001b[0m \u001b[1m5s\u001b[0m 936us/step - accuracy: 0.9671 - loss: 0.1027 - val_accuracy: 0.9624 - val_loss: 0.1201\n",
      "Epoch 39/50\n",
      "\u001b[1m5466/5466\u001b[0m \u001b[32m━━━━━━━━━━━━━━━━━━━━\u001b[0m\u001b[37m\u001b[0m \u001b[1m5s\u001b[0m 944us/step - accuracy: 0.9668 - loss: 0.1029 - val_accuracy: 0.9626 - val_loss: 0.1174\n",
      "Epoch 40/50\n",
      "\u001b[1m5466/5466\u001b[0m \u001b[32m━━━━━━━━━━━━━━━━━━━━\u001b[0m\u001b[37m\u001b[0m \u001b[1m5s\u001b[0m 961us/step - accuracy: 0.9674 - loss: 0.1010 - val_accuracy: 0.9612 - val_loss: 0.1212\n",
      "Epoch 41/50\n",
      "\u001b[1m5466/5466\u001b[0m \u001b[32m━━━━━━━━━━━━━━━━━━━━\u001b[0m\u001b[37m\u001b[0m \u001b[1m5s\u001b[0m 981us/step - accuracy: 0.9669 - loss: 0.1012 - val_accuracy: 0.9610 - val_loss: 0.1222\n",
      "Epoch 42/50\n",
      "\u001b[1m5466/5466\u001b[0m \u001b[32m━━━━━━━━━━━━━━━━━━━━\u001b[0m\u001b[37m\u001b[0m \u001b[1m5s\u001b[0m 966us/step - accuracy: 0.9671 - loss: 0.1028 - val_accuracy: 0.9627 - val_loss: 0.1198\n",
      "Epoch 43/50\n",
      "\u001b[1m5466/5466\u001b[0m \u001b[32m━━━━━━━━━━━━━━━━━━━━\u001b[0m\u001b[37m\u001b[0m \u001b[1m5s\u001b[0m 941us/step - accuracy: 0.9666 - loss: 0.1029 - val_accuracy: 0.9632 - val_loss: 0.1191\n",
      "Epoch 44/50\n",
      "\u001b[1m5466/5466\u001b[0m \u001b[32m━━━━━━━━━━━━━━━━━━━━\u001b[0m\u001b[37m\u001b[0m \u001b[1m5s\u001b[0m 951us/step - accuracy: 0.9673 - loss: 0.1010 - val_accuracy: 0.9625 - val_loss: 0.1193\n",
      "Epoch 45/50\n",
      "\u001b[1m5466/5466\u001b[0m \u001b[32m━━━━━━━━━━━━━━━━━━━━\u001b[0m\u001b[37m\u001b[0m \u001b[1m5s\u001b[0m 947us/step - accuracy: 0.9673 - loss: 0.1015 - val_accuracy: 0.9623 - val_loss: 0.1188\n",
      "Epoch 46/50\n",
      "\u001b[1m5466/5466\u001b[0m \u001b[32m━━━━━━━━━━━━━━━━━━━━\u001b[0m\u001b[37m\u001b[0m \u001b[1m5s\u001b[0m 941us/step - accuracy: 0.9681 - loss: 0.0995 - val_accuracy: 0.9622 - val_loss: 0.1187\n",
      "Epoch 47/50\n",
      "\u001b[1m5466/5466\u001b[0m \u001b[32m━━━━━━━━━━━━━━━━━━━━\u001b[0m\u001b[37m\u001b[0m \u001b[1m5s\u001b[0m 941us/step - accuracy: 0.9676 - loss: 0.1000 - val_accuracy: 0.9618 - val_loss: 0.1214\n",
      "Epoch 48/50\n",
      "\u001b[1m5466/5466\u001b[0m \u001b[32m━━━━━━━━━━━━━━━━━━━━\u001b[0m\u001b[37m\u001b[0m \u001b[1m5s\u001b[0m 934us/step - accuracy: 0.9678 - loss: 0.0999 - val_accuracy: 0.9628 - val_loss: 0.1189\n",
      "Epoch 49/50\n",
      "\u001b[1m5466/5466\u001b[0m \u001b[32m━━━━━━━━━━━━━━━━━━━━\u001b[0m\u001b[37m\u001b[0m \u001b[1m5s\u001b[0m 935us/step - accuracy: 0.9671 - loss: 0.1012 - val_accuracy: 0.9621 - val_loss: 0.1220\n",
      "Epoch 50/50\n",
      "\u001b[1m5466/5466\u001b[0m \u001b[32m━━━━━━━━━━━━━━━━━━━━\u001b[0m\u001b[37m\u001b[0m \u001b[1m5s\u001b[0m 963us/step - accuracy: 0.9674 - loss: 0.1005 - val_accuracy: 0.9630 - val_loss: 0.1201\n",
      "\u001b[1m6832/6832\u001b[0m \u001b[32m━━━━━━━━━━━━━━━━━━━━\u001b[0m\u001b[37m\u001b[0m \u001b[1m4s\u001b[0m 620us/step - accuracy: 0.9681 - loss: 0.0990\n",
      "\u001b[1m6835/6835\u001b[0m \u001b[32m━━━━━━━━━━━━━━━━━━━━\u001b[0m\u001b[37m\u001b[0m \u001b[1m4s\u001b[0m 608us/step - accuracy: 0.9627 - loss: 0.1217\n"
     ]
    }
   ],
   "source": [
    "\n",
    "\n",
    "# Standardize the features\n",
    "#Note we are peroforming scaling the orignal X_train and Y_train and not the already scaled data\n",
    "scaler = StandardScaler()\n",
    "X_train_scaled = scaler.fit_transform(X_train)\n",
    "X_test_scaled = scaler.transform(X_test)\n",
    "\n",
    "# Define the neural network architecture for binary classification\n",
    "model = keras.Sequential([\n",
    "    keras.layers.Dense(64, activation='relu', input_shape=(X_train_scaled.shape[1],)),\n",
    "    keras.layers.Dense(32, activation='relu'),\n",
    "    keras.layers.Dense(1, activation='sigmoid')  # Output layer with 1 neuron and sigmoid activation\n",
    "])\n",
    "\n",
    "# Compile the model\n",
    "model.compile(optimizer='adam',\n",
    "              loss='binary_crossentropy',  # Using binary cross-entropy as the loss function for binary classification\n",
    "              metrics=['accuracy'])  # Monitor accuracy during training\n",
    "\n",
    "# Train the model\n",
    "history = model.fit(X_train_scaled, y_train, epochs=50, batch_size=32, validation_split=0.2)\n",
    "\n",
    "# Evaluate the model on the training and test data\n",
    "train_loss, train_accuracy = model.evaluate(X_train_scaled, y_train)\n",
    "test_loss, test_accuracy = model.evaluate(X_test_scaled, y_test)\n",
    "\n",
    "\n",
    "\n",
    "\n"
   ]
  },
  {
   "cell_type": "code",
   "execution_count": 51,
   "id": "e79a9298",
   "metadata": {},
   "outputs": [
    {
     "name": "stdout",
     "output_type": "stream",
     "text": [
      "\u001b[1m6832/6832\u001b[0m \u001b[32m━━━━━━━━━━━━━━━━━━━━\u001b[0m\u001b[37m\u001b[0m \u001b[1m4s\u001b[0m 611us/step\n",
      "\u001b[1m6835/6835\u001b[0m \u001b[32m━━━━━━━━━━━━━━━━━━━━\u001b[0m\u001b[37m\u001b[0m \u001b[1m4s\u001b[0m 596us/step\n"
     ]
    }
   ],
   "source": [
    "\n",
    "# Make predictions for both training and test data\n",
    "y_train_pred = model.predict(X_train_scaled)\n",
    "y_test_pred = model.predict(X_test_scaled)\n",
    "\n",
    "# Calculate MSE for both training and test data\n",
    "train_mse = mean_squared_error(y_train, y_train_pred)\n",
    "test_mse = mean_squared_error(y_test, y_test_pred)\n",
    "\n"
   ]
  },
  {
   "cell_type": "code",
   "execution_count": 52,
   "id": "c5df9fcb",
   "metadata": {},
   "outputs": [
    {
     "name": "stdout",
     "output_type": "stream",
     "text": [
      "Train Accuracy: 0.9673702120780945\n",
      "Train MSE: 0.02748277003053054\n",
      "Test Accuracy: 0.962897777557373\n",
      "Test MSE: 0.031605380302150855\n"
     ]
    }
   ],
   "source": [
    "print(\"Train Accuracy:\", train_accuracy)\n",
    "print(\"Train MSE:\", train_mse)\n",
    "print(\"Test Accuracy:\", test_accuracy)\n",
    "print(\"Test MSE:\", test_mse)"
   ]
  }
 ],
 "metadata": {
  "kernelspec": {
   "display_name": "Python 3 (ipykernel)",
   "language": "python",
   "name": "python3"
  },
  "language_info": {
   "codemirror_mode": {
    "name": "ipython",
    "version": 3
   },
   "file_extension": ".py",
   "mimetype": "text/x-python",
   "name": "python",
   "nbconvert_exporter": "python",
   "pygments_lexer": "ipython3",
   "version": "3.11.5"
  }
 },
 "nbformat": 4,
 "nbformat_minor": 5
}
